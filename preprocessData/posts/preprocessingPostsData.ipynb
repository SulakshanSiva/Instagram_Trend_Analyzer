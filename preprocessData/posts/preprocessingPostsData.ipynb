{
 "cells": [
  {
   "cell_type": "markdown",
   "metadata": {},
   "source": [
    "# Processing TikTok Post Data"
   ]
  },
  {
   "cell_type": "code",
   "execution_count": 74,
   "metadata": {},
   "outputs": [],
   "source": [
    "# ! pip install pandas\n",
    "# ! pip install matplotlib\n",
    "# ! pip install gensim"
   ]
  },
  {
   "cell_type": "code",
   "execution_count": 75,
   "metadata": {},
   "outputs": [],
   "source": [
    "import pandas as pd\n",
    "import matplotlib.pyplot as plt\n",
    "import ast\n",
    "import numpy as np\n",
    "from PIL import Image\n",
    "import re\n",
    "from wordsegment import load, segment\n",
    "from gensim.models import Word2Vec\n",
    "from sklearn.preprocessing import FunctionTransformer\n",
    "import seaborn as sns\n",
    "from sklearn.preprocessing import RobustScaler, MinMaxScaler"
   ]
  },
  {
   "cell_type": "code",
   "execution_count": 76,
   "metadata": {},
   "outputs": [
    {
     "data": {
      "text/html": [
       "<div>\n",
       "<style scoped>\n",
       "    .dataframe tbody tr th:only-of-type {\n",
       "        vertical-align: middle;\n",
       "    }\n",
       "\n",
       "    .dataframe tbody tr th {\n",
       "        vertical-align: top;\n",
       "    }\n",
       "\n",
       "    .dataframe thead th {\n",
       "        text-align: right;\n",
       "    }\n",
       "</style>\n",
       "<table border=\"1\" class=\"dataframe\">\n",
       "  <thead>\n",
       "    <tr style=\"text-align: right;\">\n",
       "      <th></th>\n",
       "      <th>id</th>\n",
       "      <th>create_time</th>\n",
       "      <th>user_name</th>\n",
       "      <th>hashtags</th>\n",
       "      <th>song</th>\n",
       "      <th>video_length</th>\n",
       "      <th>n_likes</th>\n",
       "      <th>n_shares</th>\n",
       "      <th>n_comments</th>\n",
       "      <th>n_plays</th>\n",
       "      <th>n_followers</th>\n",
       "      <th>n_total_likes</th>\n",
       "      <th>n_total_vids</th>\n",
       "    </tr>\n",
       "  </thead>\n",
       "  <tbody>\n",
       "    <tr>\n",
       "      <th>0</th>\n",
       "      <td>6892519502127320322</td>\n",
       "      <td>1604789755</td>\n",
       "      <td>robertdowneyjnrofficial</td>\n",
       "      <td>['summer', 'avengers', 'ohnanana', 'robertdown...</td>\n",
       "      <td>Capone - Oh No</td>\n",
       "      <td>9</td>\n",
       "      <td>2698</td>\n",
       "      <td>4</td>\n",
       "      <td>230</td>\n",
       "      <td>17300</td>\n",
       "      <td>651100</td>\n",
       "      <td>144000</td>\n",
       "      <td>3</td>\n",
       "    </tr>\n",
       "    <tr>\n",
       "      <th>1</th>\n",
       "      <td>6882945622962375942</td>\n",
       "      <td>1602560714</td>\n",
       "      <td>jackblack</td>\n",
       "      <td>[]</td>\n",
       "      <td>original sound</td>\n",
       "      <td>8</td>\n",
       "      <td>3900000</td>\n",
       "      <td>59100</td>\n",
       "      <td>72300</td>\n",
       "      <td>17700000</td>\n",
       "      <td>3600000</td>\n",
       "      <td>16200000</td>\n",
       "      <td>16</td>\n",
       "    </tr>\n",
       "    <tr>\n",
       "      <th>2</th>\n",
       "      <td>6861708313474731270</td>\n",
       "      <td>1597615969</td>\n",
       "      <td>vindieselbrasileiro</td>\n",
       "      <td>['viral', 'diadossolteiros', 'resort', 'challe...</td>\n",
       "      <td>som original</td>\n",
       "      <td>19</td>\n",
       "      <td>16800</td>\n",
       "      <td>75</td>\n",
       "      <td>302</td>\n",
       "      <td>338300</td>\n",
       "      <td>1700000</td>\n",
       "      <td>4200000</td>\n",
       "      <td>22</td>\n",
       "    </tr>\n",
       "    <tr>\n",
       "      <th>3</th>\n",
       "      <td>6892508421405281542</td>\n",
       "      <td>1604787205</td>\n",
       "      <td>chars...alien</td>\n",
       "      <td>['fypシforyoupage', 'fyptiktok', 'fyp', 'fypps'...</td>\n",
       "      <td>original sound</td>\n",
       "      <td>8</td>\n",
       "      <td>708</td>\n",
       "      <td>23</td>\n",
       "      <td>48</td>\n",
       "      <td>3542</td>\n",
       "      <td>26200</td>\n",
       "      <td>73800</td>\n",
       "      <td>600</td>\n",
       "    </tr>\n",
       "    <tr>\n",
       "      <th>4</th>\n",
       "      <td>6892537706161769729</td>\n",
       "      <td>1604793994</td>\n",
       "      <td>tiktokforyouvids</td>\n",
       "      <td>[]</td>\n",
       "      <td>original sound</td>\n",
       "      <td>13</td>\n",
       "      <td>966</td>\n",
       "      <td>1</td>\n",
       "      <td>8</td>\n",
       "      <td>4438</td>\n",
       "      <td>3700000</td>\n",
       "      <td>116800000</td>\n",
       "      <td>2377</td>\n",
       "    </tr>\n",
       "  </tbody>\n",
       "</table>\n",
       "</div>"
      ],
      "text/plain": [
       "                    id  create_time                user_name  \\\n",
       "0  6892519502127320322   1604789755  robertdowneyjnrofficial   \n",
       "1  6882945622962375942   1602560714                jackblack   \n",
       "2  6861708313474731270   1597615969      vindieselbrasileiro   \n",
       "3  6892508421405281542   1604787205            chars...alien   \n",
       "4  6892537706161769729   1604793994         tiktokforyouvids   \n",
       "\n",
       "                                            hashtags            song  \\\n",
       "0  ['summer', 'avengers', 'ohnanana', 'robertdown...  Capone - Oh No   \n",
       "1                                                 []  original sound   \n",
       "2  ['viral', 'diadossolteiros', 'resort', 'challe...    som original   \n",
       "3  ['fypシforyoupage', 'fyptiktok', 'fyp', 'fypps'...  original sound   \n",
       "4                                                 []  original sound   \n",
       "\n",
       "   video_length  n_likes  n_shares  n_comments   n_plays  n_followers  \\\n",
       "0             9     2698         4         230     17300       651100   \n",
       "1             8  3900000     59100       72300  17700000      3600000   \n",
       "2            19    16800        75         302    338300      1700000   \n",
       "3             8      708        23          48      3542        26200   \n",
       "4            13      966         1           8      4438      3700000   \n",
       "\n",
       "   n_total_likes  n_total_vids  \n",
       "0         144000             3  \n",
       "1       16200000            16  \n",
       "2        4200000            22  \n",
       "3          73800           600  \n",
       "4      116800000          2377  "
      ]
     },
     "execution_count": 76,
     "metadata": {},
     "output_type": "execute_result"
    }
   ],
   "source": [
    "df = pd.read_csv(\"../../rawData/TikTok/testPostInput.csv\")\n",
    "\n",
    "df.head()"
   ]
  },
  {
   "cell_type": "markdown",
   "metadata": {},
   "source": [
    "#### Remove Irrelevant Data "
   ]
  },
  {
   "cell_type": "code",
   "execution_count": 77,
   "metadata": {},
   "outputs": [],
   "source": [
    "df.drop(['id', 'user_name', 'song', 'video_length', 'n_total_vids'], axis=1, inplace=True)"
   ]
  },
  {
   "cell_type": "markdown",
   "metadata": {},
   "source": [
    "### Processing Time"
   ]
  },
  {
   "cell_type": "code",
   "execution_count": 78,
   "metadata": {},
   "outputs": [],
   "source": [
    "df['datetime'] = pd.to_datetime(df['create_time'], unit='s')\n",
    "df['year'] = df['datetime'].dt.year\n",
    "df['month'] = df['datetime'].dt.month\n",
    "df['day'] = df['datetime'].dt.day\n",
    "df['weekday'] = df['datetime'].dt.weekday\n",
    "df['hour'] = df['datetime'].dt.hour"
   ]
  },
  {
   "cell_type": "markdown",
   "metadata": {},
   "source": [
    "##### Cyclical Encoding of Post's Publish Date"
   ]
  },
  {
   "cell_type": "code",
   "execution_count": 79,
   "metadata": {},
   "outputs": [],
   "source": [
    "def cyclicSinEncoding(timePeriod):\n",
    "    encoding = FunctionTransformer(lambda x: np.sin(x / timePeriod * 2 * np.pi))\n",
    "    return encoding \n",
    "\n",
    "def cyclicCosEncoding(timePeriod):\n",
    "    encoding = FunctionTransformer(lambda x: np.cos(x / timePeriod * 2 * np.pi))\n",
    "    return encoding \n",
    "\n",
    "df['monthSin'] = cyclicSinEncoding(12).fit_transform(df[\"month\"])\n",
    "df['monthCos'] = cyclicCosEncoding(12).fit_transform(df[\"month\"])\n",
    "\n",
    "df['daySin'] = cyclicSinEncoding(31).fit_transform(df['day'])\n",
    "df['dayCos'] = cyclicCosEncoding(31).fit_transform(df['day'])\n",
    "\n",
    "df['hourSin'] = cyclicSinEncoding(24).fit_transform(df['hour'])\n",
    "df['hourCos'] = cyclicCosEncoding(24).fit_transform(df['hour'])\n",
    "\n",
    "df['weekdaySin'] = cyclicSinEncoding(7).fit_transform(df['weekday'])\n",
    "df['weekdayCos'] = cyclicCosEncoding(7).fit_transform(df['weekday'])\n",
    "\n",
    "df.drop(['weekday', 'hour', 'month', 'day', 'datetime', 'create_time'], axis=1, inplace=True)"
   ]
  },
  {
   "cell_type": "markdown",
   "metadata": {},
   "source": [
    "### Processing Hashtags"
   ]
  },
  {
   "cell_type": "markdown",
   "metadata": {},
   "source": [
    "#### Handle NaN Data"
   ]
  },
  {
   "cell_type": "code",
   "execution_count": 80,
   "metadata": {},
   "outputs": [],
   "source": [
    "# Convert hashtags to string \n",
    "\n",
    "df['hashtags'] = df['hashtags'].apply(ast.literal_eval)\n",
    "df['hashtags'] = df['hashtags'].apply(lambda x: x if x != [] else [\"nohashtag\"])\n",
    "\n",
    "def processHashtags(hashtags):\n",
    "    for i in range(len(hashtags)):\n",
    "        if not hashtags[i].strip(): \n",
    "            hashtags[i] = 'nohashtag'\n",
    "    return hashtags\n",
    "\n",
    "df['hashtags'] = df['hashtags'].apply(processHashtags)\n",
    "explodedDf = df['hashtags'].explode()"
   ]
  },
  {
   "cell_type": "markdown",
   "metadata": {},
   "source": [
    "#### Remove Special Characters"
   ]
  },
  {
   "cell_type": "code",
   "execution_count": 81,
   "metadata": {},
   "outputs": [],
   "source": [
    "def removeSpecialCharacters(hashtags):\n",
    "    processedHashtag = [re.sub(r'[^a-zA-Z0-9]', '', hashtag) for hashtag in hashtags]\n",
    "    processedHashtag = [hashtag.lower() for hashtag in processedHashtag]\n",
    "    return processedHashtag\n",
    "\n",
    "df['hashtags'] = df['hashtags'].apply(removeSpecialCharacters)"
   ]
  },
  {
   "cell_type": "markdown",
   "metadata": {},
   "source": [
    "#### Handling Similar Hashtags"
   ]
  },
  {
   "cell_type": "code",
   "execution_count": 82,
   "metadata": {},
   "outputs": [],
   "source": [
    "def processSimilarHashtags(hashtags):\n",
    "    similarHashtags = ['fypforyoupage', 'fyp', 'foryou', 'foru', 'foruyou', 'fouryou', 'foryourpage', 'foryouu', 'foryoupag', '4you', 'fypforyou', 'foryoupagee', 'fouryoupage', 'fypforyourpage', 'foreyou', 'foreyoupage', 'foryour', 'foyou', 'fouyoupage' 'foryourpag', '4youpage', 'fypforyoupa', 'foryoupqge', 'fouryoupag', 'foryoupge', 'foyoupage', 'foryouoage', 'foryoyoupage', 'foreyourpage', 'foryourpages', 'fy']\n",
    "    \n",
    "    for i in range(len(hashtags)):\n",
    "        \n",
    "        if hashtags[i] in similarHashtags:\n",
    "            hashtags[i] = 'foryoupage'\n",
    "        \n",
    "        if not hashtags[i].strip():\n",
    "            hashtags[i] = 'nohashtag'\n",
    "    return hashtags\n",
    "\n",
    "df['hashtags'] = df['hashtags'].apply(processSimilarHashtags)"
   ]
  },
  {
   "cell_type": "code",
   "execution_count": 83,
   "metadata": {},
   "outputs": [],
   "source": [
    "explodedDf = df['hashtags'].explode()"
   ]
  },
  {
   "cell_type": "markdown",
   "metadata": {},
   "source": [
    "#### Split Words in Hashtag"
   ]
  },
  {
   "cell_type": "code",
   "execution_count": 84,
   "metadata": {},
   "outputs": [],
   "source": [
    "def splitHashtagByWords(hashtags):\n",
    "    wordsToIgnore = ['tiktok']\n",
    "    splitHashtags = []\n",
    "    for hashtag in hashtags:\n",
    "        if hashtag in wordsToIgnore:\n",
    "             splitHashtags.append([hashtag])\n",
    "        else:    \n",
    "            splitHashtags.append(segment(hashtag))\n",
    "    return splitHashtags\n",
    "\n",
    "load()\n",
    "splitHashtags = df['hashtags'].apply(splitHashtagByWords)\n",
    "\n",
    "processedHashtag = []\n",
    "for hashtag in splitHashtags:\n",
    "    for tag in hashtag:\n",
    "        processedHashtag.append(tag)"
   ]
  },
  {
   "cell_type": "markdown",
   "metadata": {},
   "source": [
    "#### Encode Hashtags using Word2Vec"
   ]
  },
  {
   "cell_type": "code",
   "execution_count": 85,
   "metadata": {},
   "outputs": [],
   "source": [
    "model = Word2Vec(sentences=processedHashtag, vector_size=200, window=5, min_count=1, sg=1, workers=4)\n",
    "\n",
    "model.save(\"hashtags_word2vec.model\")\n",
    "\n",
    "def encodeHashtag(hashtag):\n",
    "    \n",
    "    if any(word in model.wv.key_to_index for word in hashtag):\n",
    "        vector = sum(model.wv[word] for word in hashtag if word in model.wv) / len(hashtag)\n",
    "        return vector\n",
    "    else:\n",
    "        # If word, can't be found return 0\n",
    "        return np.zeros(model.vector_size)\n",
    "\n",
    "def encodeHashtagArray(hashtags):\n",
    "    vectors = []\n",
    "    for hashtag in hashtags:\n",
    "        vector = encodeHashtag(hashtag)\n",
    "        vectors.append(vector)\n",
    "    \n",
    "    if vectors:\n",
    "        return np.mean(vectors, axis=0)\n",
    "    else: \n",
    "        return np.zeros(model.vector_size)\n",
    "    \n",
    "df['hashtagVectors'] = df['hashtags'].apply(encodeHashtagArray)"
   ]
  },
  {
   "cell_type": "markdown",
   "metadata": {},
   "source": [
    "### Processing Outliers"
   ]
  },
  {
   "cell_type": "markdown",
   "metadata": {},
   "source": [
    "### Data Scaling"
   ]
  },
  {
   "cell_type": "code",
   "execution_count": 86,
   "metadata": {},
   "outputs": [],
   "source": [
    "def calculateStatMeasures(col):\n",
    "    print(f'{col}: mean={df[col].mean()}, median={df[col].median()}, mode={df[col].mode()}, std={df[col].std()}')\n",
    "\n",
    "def plotData(xLabel, yLabel, x, y, title):\n",
    "    plt.scatter(x, y, s=3)\n",
    "    plt.title(title)\n",
    "    plt.xlabel(xLabel)\n",
    "    plt.ylabel(yLabel)\n",
    "    plt.show()"
   ]
  },
  {
   "cell_type": "code",
   "execution_count": 87,
   "metadata": {},
   "outputs": [],
   "source": [
    "minMaxScaler = MinMaxScaler()\n",
    "\n",
    "df['nLikesLog'] = np.log1p(df['n_likes'])\n",
    "df['nSharesLog'] = np.log1p(df['n_shares'])\n",
    "df['nFollowersLog'] = np.log1p(df['n_followers'])\n",
    "df['nCommentsLog'] = np.log1p(df['n_comments'])\n",
    "df['nViewsLog'] = np.log1p(df['n_plays'])\n",
    "df['nAccountTotalLikesLog'] = np.log1p(df['n_total_likes'])\n",
    "df['nFollowersLog'] = np.log1p(df['n_followers']) \n",
    "\n",
    "df[['nLikes', 'nShares', 'nFollowers', 'nComments', 'nViews', 'nAccountTotalLikes', 'nFollowers', 'postYear']] = minMaxScaler.fit_transform(df[['nLikesLog', 'nSharesLog', 'nFollowersLog', 'nCommentsLog', 'nViewsLog', 'nAccountTotalLikesLog', 'nFollowersLog', 'year']])"
   ]
  },
  {
   "cell_type": "code",
   "execution_count": 88,
   "metadata": {},
   "outputs": [],
   "source": [
    "df.drop(['n_shares', 'n_likes', 'n_comments', 'n_plays', 'n_followers','n_total_likes', 'hashtags', 'year', 'nLikesLog', 'nSharesLog', 'nFollowersLog', 'nCommentsLog', 'nViewsLog', 'nAccountTotalLikesLog', 'nFollowersLog'], axis=1, inplace=True)"
   ]
  },
  {
   "cell_type": "markdown",
   "metadata": {},
   "source": [
    "#### Plot Data"
   ]
  },
  {
   "cell_type": "code",
   "execution_count": 89,
   "metadata": {},
   "outputs": [
    {
     "data": {
      "image/png": "[encoded data removed]",
      "text/plain": [
       "<Figure size 640x480 with 1 Axes>"
      ]
     },
     "metadata": {},
     "output_type": "display_data"
    },
    {
     "data": {
      "image/png": "[encoded data removed]",
      "text/plain": [
       "<Figure size 640x480 with 1 Axes>"
      ]
     },
     "metadata": {},
     "output_type": "display_data"
    },
    {
     "data": {
      "image/png": "[encoded data removed]",
      "text/plain": [
       "<Figure size 640x480 with 1 Axes>"
      ]
     },
     "metadata": {},
     "output_type": "display_data"
    }
   ],
   "source": [
    "plotData('Number of Comments', 'Number of Likes', df['nComments'], df['nLikes'], 'Likes and Comments of a Post')\n",
    "plotData('Number of Shares', 'Number of View', df['nShares'], df['nViews'], 'Shares and Views of a Post')\n",
    "plotData('Number of Followers', 'Number of Likes', df['nFollowers'], df['nAccountTotalLikes'], 'Account Followers of a Post')"
   ]
  },
  {
   "cell_type": "code",
   "execution_count": 90,
   "metadata": {},
   "outputs": [
    {
     "data": {
      "text/html": [
       "<div>\n",
       "<style scoped>\n",
       "    .dataframe tbody tr th:only-of-type {\n",
       "        vertical-align: middle;\n",
       "    }\n",
       "\n",
       "    .dataframe tbody tr th {\n",
       "        vertical-align: top;\n",
       "    }\n",
       "\n",
       "    .dataframe thead th {\n",
       "        text-align: right;\n",
       "    }\n",
       "</style>\n",
       "<table border=\"1\" class=\"dataframe\">\n",
       "  <thead>\n",
       "    <tr style=\"text-align: right;\">\n",
       "      <th></th>\n",
       "      <th>monthSin</th>\n",
       "      <th>monthCos</th>\n",
       "      <th>daySin</th>\n",
       "      <th>dayCos</th>\n",
       "      <th>hourSin</th>\n",
       "      <th>hourCos</th>\n",
       "      <th>weekdaySin</th>\n",
       "      <th>weekdayCos</th>\n",
       "      <th>hashtagVectors</th>\n",
       "      <th>nLikes</th>\n",
       "      <th>nShares</th>\n",
       "      <th>nFollowers</th>\n",
       "      <th>nComments</th>\n",
       "      <th>nViews</th>\n",
       "      <th>nAccountTotalLikes</th>\n",
       "      <th>postYear</th>\n",
       "    </tr>\n",
       "  </thead>\n",
       "  <tbody>\n",
       "    <tr>\n",
       "      <th>0</th>\n",
       "      <td>-0.500000</td>\n",
       "      <td>0.866025</td>\n",
       "      <td>0.988468</td>\n",
       "      <td>0.151428</td>\n",
       "      <td>-0.500000</td>\n",
       "      <td>0.866025</td>\n",
       "      <td>-0.974928</td>\n",
       "      <td>-0.222521</td>\n",
       "      <td>[1.6607245061095455e-05, -0.000141368764161597...</td>\n",
       "      <td>0.155212</td>\n",
       "      <td>0.089013</td>\n",
       "      <td>0.649026</td>\n",
       "      <td>0.360923</td>\n",
       "      <td>0.186205</td>\n",
       "      <td>0.090737</td>\n",
       "      <td>0.0</td>\n",
       "    </tr>\n",
       "    <tr>\n",
       "      <th>1</th>\n",
       "      <td>-0.866025</td>\n",
       "      <td>0.500000</td>\n",
       "      <td>0.485302</td>\n",
       "      <td>-0.874347</td>\n",
       "      <td>0.707107</td>\n",
       "      <td>0.707107</td>\n",
       "      <td>0.781831</td>\n",
       "      <td>0.623490</td>\n",
       "      <td>[-5.1371153e-06, -0.00055204955, -0.0004184576...</td>\n",
       "      <td>1.000000</td>\n",
       "      <td>1.000000</td>\n",
       "      <td>0.994465</td>\n",
       "      <td>1.000000</td>\n",
       "      <td>1.000000</td>\n",
       "      <td>0.731846</td>\n",
       "      <td>0.0</td>\n",
       "    </tr>\n",
       "    <tr>\n",
       "      <th>2</th>\n",
       "      <td>-0.866025</td>\n",
       "      <td>-0.500000</td>\n",
       "      <td>-0.101168</td>\n",
       "      <td>-0.994869</td>\n",
       "      <td>-0.500000</td>\n",
       "      <td>0.866025</td>\n",
       "      <td>-0.781831</td>\n",
       "      <td>0.623490</td>\n",
       "      <td>[6.396621446666276e-06, -0.0003548255137337202...</td>\n",
       "      <td>0.367523</td>\n",
       "      <td>0.353374</td>\n",
       "      <td>0.842897</td>\n",
       "      <td>0.391098</td>\n",
       "      <td>0.535319</td>\n",
       "      <td>0.548602</td>\n",
       "      <td>0.0</td>\n",
       "    </tr>\n",
       "    <tr>\n",
       "      <th>3</th>\n",
       "      <td>-0.500000</td>\n",
       "      <td>0.866025</td>\n",
       "      <td>0.988468</td>\n",
       "      <td>0.151428</td>\n",
       "      <td>-0.500000</td>\n",
       "      <td>0.866025</td>\n",
       "      <td>-0.974928</td>\n",
       "      <td>-0.222521</td>\n",
       "      <td>[-1.541134555406064e-06, -0.000165614860386333...</td>\n",
       "      <td>0.000000</td>\n",
       "      <td>0.241397</td>\n",
       "      <td>0.000000</td>\n",
       "      <td>0.188469</td>\n",
       "      <td>0.000000</td>\n",
       "      <td>0.000000</td>\n",
       "      <td>0.0</td>\n",
       "    </tr>\n",
       "    <tr>\n",
       "      <th>4</th>\n",
       "      <td>-0.500000</td>\n",
       "      <td>0.866025</td>\n",
       "      <td>0.998717</td>\n",
       "      <td>-0.050649</td>\n",
       "      <td>0.000000</td>\n",
       "      <td>1.000000</td>\n",
       "      <td>-0.781831</td>\n",
       "      <td>0.623490</td>\n",
       "      <td>[-5.1371153e-06, -0.00055204955, -0.0004184576...</td>\n",
       "      <td>0.036033</td>\n",
       "      <td>0.000000</td>\n",
       "      <td>1.000000</td>\n",
       "      <td>0.000000</td>\n",
       "      <td>0.026473</td>\n",
       "      <td>1.000000</td>\n",
       "      <td>0.0</td>\n",
       "    </tr>\n",
       "  </tbody>\n",
       "</table>\n",
       "</div>"
      ],
      "text/plain": [
       "   monthSin  monthCos    daySin    dayCos   hourSin   hourCos  weekdaySin  \\\n",
       "0 -0.500000  0.866025  0.988468  0.151428 -0.500000  0.866025   -0.974928   \n",
       "1 -0.866025  0.500000  0.485302 -0.874347  0.707107  0.707107    0.781831   \n",
       "2 -0.866025 -0.500000 -0.101168 -0.994869 -0.500000  0.866025   -0.781831   \n",
       "3 -0.500000  0.866025  0.988468  0.151428 -0.500000  0.866025   -0.974928   \n",
       "4 -0.500000  0.866025  0.998717 -0.050649  0.000000  1.000000   -0.781831   \n",
       "\n",
       "   weekdayCos                                     hashtagVectors    nLikes  \\\n",
       "0   -0.222521  [1.6607245061095455e-05, -0.000141368764161597...  0.155212   \n",
       "1    0.623490  [-5.1371153e-06, -0.00055204955, -0.0004184576...  1.000000   \n",
       "2    0.623490  [6.396621446666276e-06, -0.0003548255137337202...  0.367523   \n",
       "3   -0.222521  [-1.541134555406064e-06, -0.000165614860386333...  0.000000   \n",
       "4    0.623490  [-5.1371153e-06, -0.00055204955, -0.0004184576...  0.036033   \n",
       "\n",
       "    nShares  nFollowers  nComments    nViews  nAccountTotalLikes  postYear  \n",
       "0  0.089013    0.649026   0.360923  0.186205            0.090737       0.0  \n",
       "1  1.000000    0.994465   1.000000  1.000000            0.731846       0.0  \n",
       "2  0.353374    0.842897   0.391098  0.535319            0.548602       0.0  \n",
       "3  0.241397    0.000000   0.188469  0.000000            0.000000       0.0  \n",
       "4  0.000000    1.000000   0.000000  0.026473            1.000000       0.0  "
      ]
     },
     "execution_count": 90,
     "metadata": {},
     "output_type": "execute_result"
    }
   ],
   "source": [
    "df.head()"
   ]
  },
  {
   "cell_type": "markdown",
   "metadata": {},
   "source": [
    "### Store Preprocessed Data"
   ]
  },
  {
   "cell_type": "code",
   "execution_count": 91,
   "metadata": {},
   "outputs": [],
   "source": [
    "df.to_csv('testTikTokPostOutput.csv', index=False)"
   ]
  },
  {
   "cell_type": "markdown",
   "metadata": {},
   "source": []
  }
 ],
 "metadata": {
  "kernelspec": {
   "display_name": "Python 3.7.0 64-bit",
   "language": "python",
   "name": "python3"
  },
  "language_info": {
   "codemirror_mode": {
    "name": "ipython",
    "version": 3
   },
   "file_extension": ".py",
   "mimetype": "text/x-python",
   "name": "python",
   "nbconvert_exporter": "python",
   "pygments_lexer": "ipython3",
   "version": "3.7.0"
  },
  "orig_nbformat": 4,
  "vscode": {
   "interpreter": {
    "hash": "aee8b7b246df8f9039afb4144a1f6fd8d2ca17a180786b69acc140d282b71a49"
   }
  }
 },
 "nbformat": 4,
 "nbformat_minor": 2
}
