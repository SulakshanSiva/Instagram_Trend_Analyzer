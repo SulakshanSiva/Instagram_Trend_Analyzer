{
 "cells": [
  {
   "cell_type": "markdown",
   "metadata": {},
   "source": [
    "# Processing TikTok Post Data"
   ]
  },
  {
   "cell_type": "code",
   "execution_count": 104,
   "metadata": {},
   "outputs": [],
   "source": [
    "# ! pip install pandas\n",
    "# ! pip install matplotlib\n",
    "# ! pip install gensim"
   ]
  },
  {
   "cell_type": "code",
   "execution_count": 106,
   "metadata": {},
   "outputs": [],
   "source": [
    "import pandas as pd\n",
    "import matplotlib.pyplot as plt\n",
    "import ast\n",
    "import numpy as np\n",
    "from PIL import Image\n",
    "import re\n",
    "from wordsegment import load, segment\n",
    "from gensim.models import Word2Vec\n",
    "from sklearn.preprocessing import FunctionTransformer\n",
    "import seaborn as sns\n",
    "from sklearn.preprocessing import RobustScaler, MinMaxScaler"
   ]
  },
  {
   "cell_type": "code",
   "execution_count": 107,
   "metadata": {},
   "outputs": [
    {
     "data": {
      "text/html": [
       "<div>\n",
       "<style scoped>\n",
       "    .dataframe tbody tr th:only-of-type {\n",
       "        vertical-align: middle;\n",
       "    }\n",
       "\n",
       "    .dataframe tbody tr th {\n",
       "        vertical-align: top;\n",
       "    }\n",
       "\n",
       "    .dataframe thead th {\n",
       "        text-align: right;\n",
       "    }\n",
       "</style>\n",
       "<table border=\"1\" class=\"dataframe\">\n",
       "  <thead>\n",
       "    <tr style=\"text-align: right;\">\n",
       "      <th></th>\n",
       "      <th>id</th>\n",
       "      <th>create_time</th>\n",
       "      <th>user_name</th>\n",
       "      <th>hashtags</th>\n",
       "      <th>song</th>\n",
       "      <th>video_length</th>\n",
       "      <th>n_likes</th>\n",
       "      <th>n_shares</th>\n",
       "      <th>n_comments</th>\n",
       "      <th>n_plays</th>\n",
       "      <th>n_followers</th>\n",
       "      <th>n_total_likes</th>\n",
       "      <th>n_total_vids</th>\n",
       "    </tr>\n",
       "  </thead>\n",
       "  <tbody>\n",
       "    <tr>\n",
       "      <th>0</th>\n",
       "      <td>6892428462015958273</td>\n",
       "      <td>1604768557</td>\n",
       "      <td>john.cena10</td>\n",
       "      <td>['johncena', 'love', 'tiktok', 'fyp', 'foryoup...</td>\n",
       "      <td>الصوت الأصلي</td>\n",
       "      <td>8</td>\n",
       "      <td>1984</td>\n",
       "      <td>3</td>\n",
       "      <td>18</td>\n",
       "      <td>12800</td>\n",
       "      <td>1000000</td>\n",
       "      <td>4700000</td>\n",
       "      <td>211</td>\n",
       "    </tr>\n",
       "    <tr>\n",
       "      <th>1</th>\n",
       "      <td>6891790235336822018</td>\n",
       "      <td>1604619960</td>\n",
       "      <td>john.cena10</td>\n",
       "      <td>['johncena', 'love', 'tiktok', 'halloween', 'q...</td>\n",
       "      <td>الصوت الأصلي</td>\n",
       "      <td>6</td>\n",
       "      <td>7372</td>\n",
       "      <td>9</td>\n",
       "      <td>51</td>\n",
       "      <td>52800</td>\n",
       "      <td>1000000</td>\n",
       "      <td>4700000</td>\n",
       "      <td>211</td>\n",
       "    </tr>\n",
       "    <tr>\n",
       "      <th>2</th>\n",
       "      <td>6891264678832475393</td>\n",
       "      <td>1604497592</td>\n",
       "      <td>john.cena10</td>\n",
       "      <td>['johncena', 'love', 'fyp', 'foryoupage']</td>\n",
       "      <td>The Time Is Now (John Cena)</td>\n",
       "      <td>5</td>\n",
       "      <td>4623</td>\n",
       "      <td>11</td>\n",
       "      <td>27</td>\n",
       "      <td>37700</td>\n",
       "      <td>1000000</td>\n",
       "      <td>4700000</td>\n",
       "      <td>211</td>\n",
       "    </tr>\n",
       "    <tr>\n",
       "      <th>3</th>\n",
       "      <td>6891050048403049730</td>\n",
       "      <td>1604447622</td>\n",
       "      <td>john.cena10</td>\n",
       "      <td>['johncena', 'fyp', 'foryoupage', 'viral', 'co...</td>\n",
       "      <td>الصوت الأصلي</td>\n",
       "      <td>6</td>\n",
       "      <td>7931</td>\n",
       "      <td>6</td>\n",
       "      <td>24</td>\n",
       "      <td>51200</td>\n",
       "      <td>1000000</td>\n",
       "      <td>4700000</td>\n",
       "      <td>211</td>\n",
       "    </tr>\n",
       "    <tr>\n",
       "      <th>4</th>\n",
       "      <td>6890886086613126402</td>\n",
       "      <td>1604409445</td>\n",
       "      <td>john.cena10</td>\n",
       "      <td>['johncena', 'foryoupage', 'fyp', 'viral']</td>\n",
       "      <td>الصوت الأصلي</td>\n",
       "      <td>15</td>\n",
       "      <td>3229</td>\n",
       "      <td>9</td>\n",
       "      <td>14</td>\n",
       "      <td>24700</td>\n",
       "      <td>1000000</td>\n",
       "      <td>4700000</td>\n",
       "      <td>211</td>\n",
       "    </tr>\n",
       "  </tbody>\n",
       "</table>\n",
       "</div>"
      ],
      "text/plain": [
       "                    id  create_time    user_name  \\\n",
       "0  6892428462015958273   1604768557  john.cena10   \n",
       "1  6891790235336822018   1604619960  john.cena10   \n",
       "2  6891264678832475393   1604497592  john.cena10   \n",
       "3  6891050048403049730   1604447622  john.cena10   \n",
       "4  6890886086613126402   1604409445  john.cena10   \n",
       "\n",
       "                                            hashtags  \\\n",
       "0  ['johncena', 'love', 'tiktok', 'fyp', 'foryoup...   \n",
       "1  ['johncena', 'love', 'tiktok', 'halloween', 'q...   \n",
       "2          ['johncena', 'love', 'fyp', 'foryoupage']   \n",
       "3  ['johncena', 'fyp', 'foryoupage', 'viral', 'co...   \n",
       "4         ['johncena', 'foryoupage', 'fyp', 'viral']   \n",
       "\n",
       "                          song  video_length  n_likes  n_shares  n_comments  \\\n",
       "0                 الصوت الأصلي             8     1984         3          18   \n",
       "1                 الصوت الأصلي             6     7372         9          51   \n",
       "2  The Time Is Now (John Cena)             5     4623        11          27   \n",
       "3                 الصوت الأصلي             6     7931         6          24   \n",
       "4                 الصوت الأصلي            15     3229         9          14   \n",
       "\n",
       "   n_plays  n_followers  n_total_likes  n_total_vids  \n",
       "0    12800      1000000        4700000           211  \n",
       "1    52800      1000000        4700000           211  \n",
       "2    37700      1000000        4700000           211  \n",
       "3    51200      1000000        4700000           211  \n",
       "4    24700      1000000        4700000           211  "
      ]
     },
     "execution_count": 107,
     "metadata": {},
     "output_type": "execute_result"
    }
   ],
   "source": [
    "df = pd.read_csv('sug_users_vids_all.csv')\n",
    "df.head()"
   ]
  },
  {
   "cell_type": "markdown",
   "metadata": {},
   "source": [
    "#### Remove Irrelevant Data "
   ]
  },
  {
   "cell_type": "code",
   "execution_count": 108,
   "metadata": {},
   "outputs": [],
   "source": [
    "df.drop(['id', 'user_name', 'song', 'video_length', 'n_total_vids'], axis=1, inplace=True)"
   ]
  },
  {
   "cell_type": "markdown",
   "metadata": {},
   "source": [
    "### Processing Time"
   ]
  },
  {
   "cell_type": "code",
   "execution_count": 109,
   "metadata": {},
   "outputs": [],
   "source": [
    "df['datetime'] = pd.to_datetime(df['create_time'], unit='s')\n",
    "df['year'] = df['datetime'].dt.year\n",
    "df['month'] = df['datetime'].dt.month\n",
    "df['day'] = df['datetime'].dt.day\n",
    "df['weekday'] = df['datetime'].dt.weekday\n",
    "df['hour'] = df['datetime'].dt.hour"
   ]
  },
  {
   "cell_type": "markdown",
   "metadata": {},
   "source": [
    "##### Cyclical Encoding of Post's Publish Date"
   ]
  },
  {
   "cell_type": "code",
   "execution_count": 110,
   "metadata": {},
   "outputs": [],
   "source": [
    "def cyclicSinEncoding(timePeriod):\n",
    "    encoding = FunctionTransformer(lambda x: np.sin(x / timePeriod * 2 * np.pi))\n",
    "    return encoding \n",
    "\n",
    "def cyclicCosEncoding(timePeriod):\n",
    "    encoding = FunctionTransformer(lambda x: np.cos(x / timePeriod * 2 * np.pi))\n",
    "    return encoding \n",
    "\n",
    "df['monthSin'] = cyclicSinEncoding(12).fit_transform(df[\"month\"])\n",
    "df['monthCos'] = cyclicCosEncoding(12).fit_transform(df[\"month\"])\n",
    "\n",
    "df['daySin'] = cyclicSinEncoding(31).fit_transform(df['day'])\n",
    "df['dayCos'] = cyclicCosEncoding(31).fit_transform(df['day'])\n",
    "\n",
    "df['hourSin'] = cyclicSinEncoding(24).fit_transform(df['hour'])\n",
    "df['hourCos'] = cyclicCosEncoding(24).fit_transform(df['hour'])\n",
    "\n",
    "df['weekdaySin'] = cyclicSinEncoding(7).fit_transform(df['weekday'])\n",
    "df['weekdayCos'] = cyclicCosEncoding(7).fit_transform(df['weekday'])\n",
    "\n",
    "df.drop(['weekday', 'hour', 'month', 'day', 'datetime', 'create_time'], axis=1, inplace=True)"
   ]
  },
  {
   "cell_type": "markdown",
   "metadata": {},
   "source": [
    "### Processing Hashtags"
   ]
  },
  {
   "cell_type": "markdown",
   "metadata": {},
   "source": [
    "#### Handle NaN Data"
   ]
  },
  {
   "cell_type": "code",
   "execution_count": 111,
   "metadata": {},
   "outputs": [],
   "source": [
    "# Convert hashtags to string \n",
    "\n",
    "df['hashtags'] = df['hashtags'].apply(ast.literal_eval)\n",
    "df['hashtags'] = df['hashtags'].apply(lambda x: x if x != [] else [\"nohashtag\"])\n",
    "\n",
    "def processHashtags(hashtags):\n",
    "    for i in range(len(hashtags)):\n",
    "        if not hashtags[i].strip(): \n",
    "            hashtags[i] = 'nohashtag'\n",
    "    return hashtags\n",
    "\n",
    "df['hashtags'] = df['hashtags'].apply(processHashtags)\n",
    "explodedDf = df['hashtags'].explode()"
   ]
  },
  {
   "cell_type": "markdown",
   "metadata": {},
   "source": [
    "#### Remove Special Characters"
   ]
  },
  {
   "cell_type": "code",
   "execution_count": 112,
   "metadata": {},
   "outputs": [],
   "source": [
    "def removeSpecialCharacters(hashtags):\n",
    "    processedHashtag = [re.sub(r'[^a-zA-Z0-9]', '', hashtag) for hashtag in hashtags]\n",
    "    processedHashtag = [hashtag.lower() for hashtag in processedHashtag]\n",
    "    return processedHashtag\n",
    "\n",
    "df['hashtags'] = df['hashtags'].apply(removeSpecialCharacters)"
   ]
  },
  {
   "cell_type": "markdown",
   "metadata": {},
   "source": [
    "#### Handling Similar Hashtags"
   ]
  },
  {
   "cell_type": "code",
   "execution_count": 113,
   "metadata": {},
   "outputs": [],
   "source": [
    "def processSimilarHashtags(hashtags):\n",
    "    similarHashtags = ['fypforyoupage', 'fyp', 'foryou', 'foru', 'foruyou', 'fouryou', 'foryourpage', 'foryouu', 'foryoupag', '4you', 'fypforyou', 'foryoupagee', 'fouryoupage', 'fypforyourpage', 'foreyou', 'foreyoupage', 'foryour', 'foyou', 'fouyoupage' 'foryourpag', '4youpage', 'fypforyoupa', 'foryoupqge', 'fouryoupag', 'foryoupge', 'foyoupage', 'foryouoage', 'foryoyoupage', 'foreyourpage', 'foryourpages', 'fy']\n",
    "    \n",
    "    for i in range(len(hashtags)):\n",
    "        \n",
    "        if hashtags[i] in similarHashtags:\n",
    "            hashtags[i] = 'foryoupage'\n",
    "        \n",
    "        if not hashtags[i].strip():\n",
    "            hashtags[i] = 'nohashtag'\n",
    "    return hashtags\n",
    "\n",
    "df['hashtags'] = df['hashtags'].apply(processSimilarHashtags)"
   ]
  },
  {
   "cell_type": "code",
   "execution_count": 114,
   "metadata": {},
   "outputs": [],
   "source": [
    "explodedDf = df['hashtags'].explode()"
   ]
  },
  {
   "cell_type": "markdown",
   "metadata": {},
   "source": [
    "#### Split Words in Hashtag"
   ]
  },
  {
   "cell_type": "code",
   "execution_count": 115,
   "metadata": {},
   "outputs": [],
   "source": [
    "def splitHashtagByWords(hashtags):\n",
    "    wordsToIgnore = ['tiktok']\n",
    "    splitHashtags = []\n",
    "    for hashtag in hashtags:\n",
    "        if hashtag in wordsToIgnore:\n",
    "             splitHashtags.append([hashtag])\n",
    "        else:    \n",
    "            splitHashtags.append(segment(hashtag))\n",
    "    return splitHashtags\n",
    "\n",
    "load()\n",
    "splitHashtags = df['hashtags'].apply(splitHashtagByWords)\n",
    "\n",
    "processedHashtag = []\n",
    "for hashtag in splitHashtags:\n",
    "    for tag in hashtag:\n",
    "        processedHashtag.append(tag)"
   ]
  },
  {
   "cell_type": "markdown",
   "metadata": {},
   "source": [
    "#### Encode Hashtags using Word2Vec"
   ]
  },
  {
   "cell_type": "code",
   "execution_count": 116,
   "metadata": {},
   "outputs": [],
   "source": [
    "model = Word2Vec(sentences=processedHashtag, vector_size=200, window=5, min_count=1, sg=1, workers=4)\n",
    "\n",
    "model.save(\"hashtags_word2vec.model\")\n",
    "\n",
    "def encodeHashtag(hashtag):\n",
    "    \n",
    "    if any(word in model.wv.key_to_index for word in hashtag):\n",
    "        vector = sum(model.wv[word] for word in hashtag if word in model.wv) / len(hashtag)\n",
    "        return vector\n",
    "    else:\n",
    "        # If word, can't be found return 0\n",
    "        return np.zeros(model.vector_size)\n",
    "\n",
    "def encodeHashtagArray(hashtags):\n",
    "    vectors = []\n",
    "    for hashtag in hashtags:\n",
    "        vector = encodeHashtag(hashtag)\n",
    "        vectors.append(vector)\n",
    "    \n",
    "    if vectors:\n",
    "        return np.mean(vectors, axis=0)\n",
    "    else: \n",
    "        return np.zeros(model.vector_size)\n",
    "    \n",
    "df['hashtagVectors'] = df['hashtags'].apply(encodeHashtagArray)"
   ]
  },
  {
   "cell_type": "markdown",
   "metadata": {},
   "source": [
    "### Processing Outliers"
   ]
  },
  {
   "cell_type": "markdown",
   "metadata": {},
   "source": [
    "### Data Scaling"
   ]
  },
  {
   "cell_type": "code",
   "execution_count": 117,
   "metadata": {},
   "outputs": [],
   "source": [
    "def calculateStatMeasures(col):\n",
    "    print(f'{col}: mean={df[col].mean()}, median={df[col].median()}, mode={df[col].mode()}, std={df[col].std()}')\n",
    "\n",
    "def plotData(xLabel, yLabel, x, y, title):\n",
    "    plt.scatter(x, y, s=3)\n",
    "    plt.title(title)\n",
    "    plt.xlabel(xLabel)\n",
    "    plt.ylabel(yLabel)\n",
    "    plt.show()"
   ]
  },
  {
   "cell_type": "code",
   "execution_count": 118,
   "metadata": {},
   "outputs": [],
   "source": [
    "minMaxScaler = MinMaxScaler()\n",
    "\n",
    "df['nLikes'] = np.log1p(df['n_likes'])\n",
    "df['nShares'] = np.log1p(df['n_shares'])\n",
    "df['nFollowers'] = np.log1p(df['n_followers'])\n",
    "df['nComments'] = np.log1p(df['n_comments'])\n",
    "df['nViews'] = np.log1p(df['n_plays'])\n",
    "df['nAccountTotalLikes'] = np.log1p(df['n_total_likes'])\n",
    "df['nFollowers'] = np.log1p(df['n_followers']) \n",
    "df['postYear'] = minMaxScaler.fit_transform(df[['year']])"
   ]
  },
  {
   "cell_type": "code",
   "execution_count": 119,
   "metadata": {},
   "outputs": [],
   "source": [
    "df.drop(['n_shares', 'n_likes', 'n_comments', 'n_plays', 'n_followers','n_total_likes', 'hashtags', 'year'], axis=1, inplace=True)"
   ]
  },
  {
   "cell_type": "markdown",
   "metadata": {},
   "source": [
    "### Store Preprocessed Data"
   ]
  },
  {
   "cell_type": "code",
   "execution_count": 120,
   "metadata": {},
   "outputs": [],
   "source": [
    "df.to_csv('preprocessedPostData.csv', index=False)"
   ]
  },
  {
   "cell_type": "markdown",
   "metadata": {},
   "source": []
  }
 ],
 "metadata": {
  "kernelspec": {
   "display_name": "Python 3.7.0 64-bit",
   "language": "python",
   "name": "python3"
  },
  "language_info": {
   "codemirror_mode": {
    "name": "ipython",
    "version": 3
   },
   "file_extension": ".py",
   "mimetype": "text/x-python",
   "name": "python",
   "nbconvert_exporter": "python",
   "pygments_lexer": "ipython3",
   "version": "3.7.0"
  },
  "orig_nbformat": 4,
  "vscode": {
   "interpreter": {
    "hash": "aee8b7b246df8f9039afb4144a1f6fd8d2ca17a180786b69acc140d282b71a49"
   }
  }
 },
 "nbformat": 4,
 "nbformat_minor": 2
}
